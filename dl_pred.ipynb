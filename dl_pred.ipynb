{
 "cells": [
  {
   "cell_type": "code",
   "execution_count": 305,
   "metadata": {
    "_cell_guid": "b1076dfc-b9ad-4769-8c92-a6c4dae69d19",
    "_uuid": "8f2839f25d086af736a60e9eeb907d3b93b6e0e5",
    "execution": {
     "iopub.execute_input": "2025-03-13T12:44:49.892032Z",
     "iopub.status.busy": "2025-03-13T12:44:49.891740Z",
     "iopub.status.idle": "2025-03-13T12:44:51.979661Z",
     "shell.execute_reply": "2025-03-13T12:44:51.979022Z",
     "shell.execute_reply.started": "2025-03-13T12:44:49.892004Z"
    },
    "trusted": true
   },
   "outputs": [],
   "source": [
    "import pandas as pd\n",
    "import pickle\n",
    "import matplotlib.pyplot as plt\n",
    "from sklearn.model_selection import train_test_split\n",
    "from sklearn.preprocessing import StandardScaler, OneHotEncoder\n",
    "from sklearn.impute import SimpleImputer\n",
    "from sklearn.pipeline import make_pipeline\n",
    "from sklearn.compose import make_column_transformer"
   ]
  },
  {
   "cell_type": "code",
   "execution_count": 306,
   "metadata": {
    "execution": {
     "iopub.execute_input": "2025-03-13T12:44:51.980922Z",
     "iopub.status.busy": "2025-03-13T12:44:51.980454Z",
     "iopub.status.idle": "2025-03-13T12:44:52.025649Z",
     "shell.execute_reply": "2025-03-13T12:44:52.024890Z",
     "shell.execute_reply.started": "2025-03-13T12:44:51.980892Z"
    },
    "trusted": true
   },
   "outputs": [
    {
     "data": {
      "text/html": [
       "<div>\n",
       "<style scoped>\n",
       "    .dataframe tbody tr th:only-of-type {\n",
       "        vertical-align: middle;\n",
       "    }\n",
       "\n",
       "    .dataframe tbody tr th {\n",
       "        vertical-align: top;\n",
       "    }\n",
       "\n",
       "    .dataframe thead th {\n",
       "        text-align: right;\n",
       "    }\n",
       "</style>\n",
       "<table border=\"1\" class=\"dataframe\">\n",
       "  <thead>\n",
       "    <tr style=\"text-align: right;\">\n",
       "      <th></th>\n",
       "      <th>id</th>\n",
       "      <th>day</th>\n",
       "      <th>pressure</th>\n",
       "      <th>maxtemp</th>\n",
       "      <th>temparature</th>\n",
       "      <th>mintemp</th>\n",
       "      <th>dewpoint</th>\n",
       "      <th>humidity</th>\n",
       "      <th>cloud</th>\n",
       "      <th>sunshine</th>\n",
       "      <th>winddirection</th>\n",
       "      <th>windspeed</th>\n",
       "      <th>rainfall</th>\n",
       "    </tr>\n",
       "  </thead>\n",
       "  <tbody>\n",
       "    <tr>\n",
       "      <th>1861</th>\n",
       "      <td>1861</td>\n",
       "      <td>37</td>\n",
       "      <td>1017.7</td>\n",
       "      <td>17.1</td>\n",
       "      <td>16.1</td>\n",
       "      <td>15.6</td>\n",
       "      <td>15.5</td>\n",
       "      <td>95.0</td>\n",
       "      <td>93.0</td>\n",
       "      <td>0.0</td>\n",
       "      <td>40.0</td>\n",
       "      <td>14.5</td>\n",
       "      <td>1</td>\n",
       "    </tr>\n",
       "    <tr>\n",
       "      <th>1615</th>\n",
       "      <td>1615</td>\n",
       "      <td>156</td>\n",
       "      <td>1006.5</td>\n",
       "      <td>34.8</td>\n",
       "      <td>30.0</td>\n",
       "      <td>26.3</td>\n",
       "      <td>24.3</td>\n",
       "      <td>60.0</td>\n",
       "      <td>38.0</td>\n",
       "      <td>11.4</td>\n",
       "      <td>220.0</td>\n",
       "      <td>9.2</td>\n",
       "      <td>0</td>\n",
       "    </tr>\n",
       "    <tr>\n",
       "      <th>1883</th>\n",
       "      <td>1883</td>\n",
       "      <td>59</td>\n",
       "      <td>1012.0</td>\n",
       "      <td>25.2</td>\n",
       "      <td>21.3</td>\n",
       "      <td>20.2</td>\n",
       "      <td>19.9</td>\n",
       "      <td>79.0</td>\n",
       "      <td>88.0</td>\n",
       "      <td>2.0</td>\n",
       "      <td>80.0</td>\n",
       "      <td>26.8</td>\n",
       "      <td>1</td>\n",
       "    </tr>\n",
       "    <tr>\n",
       "      <th>601</th>\n",
       "      <td>601</td>\n",
       "      <td>237</td>\n",
       "      <td>1006.7</td>\n",
       "      <td>31.0</td>\n",
       "      <td>28.1</td>\n",
       "      <td>26.5</td>\n",
       "      <td>25.0</td>\n",
       "      <td>80.0</td>\n",
       "      <td>88.0</td>\n",
       "      <td>0.6</td>\n",
       "      <td>230.0</td>\n",
       "      <td>40.0</td>\n",
       "      <td>1</td>\n",
       "    </tr>\n",
       "    <tr>\n",
       "      <th>739</th>\n",
       "      <td>739</td>\n",
       "      <td>10</td>\n",
       "      <td>1014.5</td>\n",
       "      <td>16.3</td>\n",
       "      <td>14.7</td>\n",
       "      <td>11.8</td>\n",
       "      <td>11.6</td>\n",
       "      <td>87.0</td>\n",
       "      <td>100.0</td>\n",
       "      <td>0.0</td>\n",
       "      <td>20.0</td>\n",
       "      <td>29.8</td>\n",
       "      <td>1</td>\n",
       "    </tr>\n",
       "    <tr>\n",
       "      <th>1838</th>\n",
       "      <td>1838</td>\n",
       "      <td>14</td>\n",
       "      <td>1024.3</td>\n",
       "      <td>17.4</td>\n",
       "      <td>12.9</td>\n",
       "      <td>10.9</td>\n",
       "      <td>8.1</td>\n",
       "      <td>77.0</td>\n",
       "      <td>93.0</td>\n",
       "      <td>0.0</td>\n",
       "      <td>20.0</td>\n",
       "      <td>26.8</td>\n",
       "      <td>1</td>\n",
       "    </tr>\n",
       "    <tr>\n",
       "      <th>1939</th>\n",
       "      <td>1939</td>\n",
       "      <td>115</td>\n",
       "      <td>1011.4</td>\n",
       "      <td>25.2</td>\n",
       "      <td>23.1</td>\n",
       "      <td>21.0</td>\n",
       "      <td>20.9</td>\n",
       "      <td>79.0</td>\n",
       "      <td>79.0</td>\n",
       "      <td>3.1</td>\n",
       "      <td>40.0</td>\n",
       "      <td>26.5</td>\n",
       "      <td>0</td>\n",
       "    </tr>\n",
       "    <tr>\n",
       "      <th>130</th>\n",
       "      <td>130</td>\n",
       "      <td>131</td>\n",
       "      <td>1008.7</td>\n",
       "      <td>31.4</td>\n",
       "      <td>28.2</td>\n",
       "      <td>26.1</td>\n",
       "      <td>25.1</td>\n",
       "      <td>82.0</td>\n",
       "      <td>75.0</td>\n",
       "      <td>9.1</td>\n",
       "      <td>120.0</td>\n",
       "      <td>21.8</td>\n",
       "      <td>0</td>\n",
       "    </tr>\n",
       "    <tr>\n",
       "      <th>963</th>\n",
       "      <td>963</td>\n",
       "      <td>234</td>\n",
       "      <td>1005.7</td>\n",
       "      <td>28.9</td>\n",
       "      <td>26.0</td>\n",
       "      <td>24.8</td>\n",
       "      <td>23.0</td>\n",
       "      <td>73.0</td>\n",
       "      <td>44.0</td>\n",
       "      <td>9.8</td>\n",
       "      <td>20.0</td>\n",
       "      <td>20.5</td>\n",
       "      <td>0</td>\n",
       "    </tr>\n",
       "    <tr>\n",
       "      <th>1509</th>\n",
       "      <td>1509</td>\n",
       "      <td>50</td>\n",
       "      <td>1017.8</td>\n",
       "      <td>17.4</td>\n",
       "      <td>16.0</td>\n",
       "      <td>15.0</td>\n",
       "      <td>15.5</td>\n",
       "      <td>86.0</td>\n",
       "      <td>79.0</td>\n",
       "      <td>0.1</td>\n",
       "      <td>60.0</td>\n",
       "      <td>12.5</td>\n",
       "      <td>1</td>\n",
       "    </tr>\n",
       "  </tbody>\n",
       "</table>\n",
       "</div>"
      ],
      "text/plain": [
       "        id  day  pressure  maxtemp  temparature  mintemp  dewpoint  humidity  \\\n",
       "1861  1861   37    1017.7     17.1         16.1     15.6      15.5      95.0   \n",
       "1615  1615  156    1006.5     34.8         30.0     26.3      24.3      60.0   \n",
       "1883  1883   59    1012.0     25.2         21.3     20.2      19.9      79.0   \n",
       "601    601  237    1006.7     31.0         28.1     26.5      25.0      80.0   \n",
       "739    739   10    1014.5     16.3         14.7     11.8      11.6      87.0   \n",
       "1838  1838   14    1024.3     17.4         12.9     10.9       8.1      77.0   \n",
       "1939  1939  115    1011.4     25.2         23.1     21.0      20.9      79.0   \n",
       "130    130  131    1008.7     31.4         28.2     26.1      25.1      82.0   \n",
       "963    963  234    1005.7     28.9         26.0     24.8      23.0      73.0   \n",
       "1509  1509   50    1017.8     17.4         16.0     15.0      15.5      86.0   \n",
       "\n",
       "      cloud  sunshine  winddirection  windspeed  rainfall  \n",
       "1861   93.0       0.0           40.0       14.5         1  \n",
       "1615   38.0      11.4          220.0        9.2         0  \n",
       "1883   88.0       2.0           80.0       26.8         1  \n",
       "601    88.0       0.6          230.0       40.0         1  \n",
       "739   100.0       0.0           20.0       29.8         1  \n",
       "1838   93.0       0.0           20.0       26.8         1  \n",
       "1939   79.0       3.1           40.0       26.5         0  \n",
       "130    75.0       9.1          120.0       21.8         0  \n",
       "963    44.0       9.8           20.0       20.5         0  \n",
       "1509   79.0       0.1           60.0       12.5         1  "
      ]
     },
     "execution_count": 306,
     "metadata": {},
     "output_type": "execute_result"
    }
   ],
   "source": [
    "df_train=pd.read_csv(\"train.csv\")\n",
    "df_train.sample(10)"
   ]
  },
  {
   "cell_type": "code",
   "execution_count": 307,
   "metadata": {
    "execution": {
     "iopub.execute_input": "2025-03-13T12:44:52.026693Z",
     "iopub.status.busy": "2025-03-13T12:44:52.026462Z",
     "iopub.status.idle": "2025-03-13T12:44:52.031784Z",
     "shell.execute_reply": "2025-03-13T12:44:52.031053Z",
     "shell.execute_reply.started": "2025-03-13T12:44:52.026673Z"
    },
    "trusted": true
   },
   "outputs": [],
   "source": [
    "X = df_train.drop(columns=\"rainfall\")\n",
    "y = df_train[\"rainfall\"]"
   ]
  },
  {
   "cell_type": "code",
   "execution_count": 308,
   "metadata": {
    "execution": {
     "iopub.execute_input": "2025-03-13T12:44:52.032961Z",
     "iopub.status.busy": "2025-03-13T12:44:52.032648Z",
     "iopub.status.idle": "2025-03-13T12:44:52.042015Z",
     "shell.execute_reply": "2025-03-13T12:44:52.041248Z",
     "shell.execute_reply.started": "2025-03-13T12:44:52.032933Z"
    },
    "trusted": true
   },
   "outputs": [],
   "source": [
    "transformer = make_pipeline(\n",
    "    SimpleImputer(strategy=\"constant\"),\n",
    "    StandardScaler(),\n",
    ")"
   ]
  },
  {
   "cell_type": "code",
   "execution_count": 309,
   "metadata": {
    "execution": {
     "iopub.execute_input": "2025-03-13T12:44:52.042978Z",
     "iopub.status.busy": "2025-03-13T12:44:52.042699Z",
     "iopub.status.idle": "2025-03-13T12:44:52.053427Z",
     "shell.execute_reply": "2025-03-13T12:44:52.052736Z",
     "shell.execute_reply.started": "2025-03-13T12:44:52.042942Z"
    },
    "trusted": true
   },
   "outputs": [],
   "source": [
    "preprocessor = make_column_transformer(\n",
    "    (transformer, X.columns)\n",
    ")"
   ]
  },
  {
   "cell_type": "code",
   "execution_count": 310,
   "metadata": {
    "execution": {
     "iopub.execute_input": "2025-03-13T12:44:52.055593Z",
     "iopub.status.busy": "2025-03-13T12:44:52.055356Z",
     "iopub.status.idle": "2025-03-13T12:44:52.083638Z",
     "shell.execute_reply": "2025-03-13T12:44:52.082886Z",
     "shell.execute_reply.started": "2025-03-13T12:44:52.055570Z"
    },
    "trusted": true
   },
   "outputs": [],
   "source": [
    "# stratify - make sure classes are evenlly represented across splits\n",
    "X_train, X_valid, y_train, y_valid = \\\n",
    "    train_test_split(X, y, stratify=y, train_size=0.75)\n",
    "\n",
    "X_train = preprocessor.fit_transform(X_train)\n",
    "X_valid = preprocessor.transform(X_valid)"
   ]
  },
  {
   "cell_type": "code",
   "execution_count": 311,
   "metadata": {
    "execution": {
     "iopub.execute_input": "2025-03-13T12:44:52.085408Z",
     "iopub.status.busy": "2025-03-13T12:44:52.085219Z",
     "iopub.status.idle": "2025-03-13T12:44:52.089889Z",
     "shell.execute_reply": "2025-03-13T12:44:52.089110Z",
     "shell.execute_reply.started": "2025-03-13T12:44:52.085392Z"
    },
    "trusted": true
   },
   "outputs": [
    {
     "data": {
      "text/plain": [
       "[12]"
      ]
     },
     "execution_count": 311,
     "metadata": {},
     "output_type": "execute_result"
    }
   ],
   "source": [
    "input_shape = [X_train.shape[1]]\n",
    "input_shape"
   ]
  },
  {
   "cell_type": "code",
   "execution_count": 312,
   "metadata": {
    "execution": {
     "iopub.execute_input": "2025-03-13T12:44:52.090913Z",
     "iopub.status.busy": "2025-03-13T12:44:52.090668Z",
     "iopub.status.idle": "2025-03-13T12:45:04.295089Z",
     "shell.execute_reply": "2025-03-13T12:45:04.294142Z",
     "shell.execute_reply.started": "2025-03-13T12:44:52.090882Z"
    },
    "trusted": true
   },
   "outputs": [
    {
     "name": "stderr",
     "output_type": "stream",
     "text": [
      "c:\\Users\\lenovo\\AppData\\Local\\Programs\\Python\\Python311\\Lib\\site-packages\\keras\\src\\layers\\core\\dense.py:87: UserWarning: Do not pass an `input_shape`/`input_dim` argument to a layer. When using Sequential models, prefer using an `Input(shape)` object as the first layer in the model instead.\n",
      "  super().__init__(activity_regularizer=activity_regularizer, **kwargs)\n"
     ]
    }
   ],
   "source": [
    "from tensorflow import keras\n",
    "from tensorflow.keras import layers\n",
    "\n",
    "model = keras.Sequential([\n",
    "    layers.BatchNormalization(),\n",
    "    layers.Dense(256, activation='relu',input_shape=input_shape),\n",
    "    layers.BatchNormalization(),\n",
    "    layers.Dropout(0.3),\n",
    "    layers.Dense(256, activation='relu'),\n",
    "    layers.BatchNormalization(),\n",
    "    layers.Dropout(0.3),\n",
    "    layers.Dense(1,activation='sigmoid')\n",
    "]\n",
    "    \n",
    ")"
   ]
  },
  {
   "cell_type": "code",
   "execution_count": 313,
   "metadata": {
    "execution": {
     "iopub.execute_input": "2025-03-13T12:45:04.296447Z",
     "iopub.status.busy": "2025-03-13T12:45:04.295940Z",
     "iopub.status.idle": "2025-03-13T12:45:04.314001Z",
     "shell.execute_reply": "2025-03-13T12:45:04.313294Z",
     "shell.execute_reply.started": "2025-03-13T12:45:04.296422Z"
    },
    "trusted": true
   },
   "outputs": [],
   "source": [
    "model.compile(loss=\"binary_crossentropy\", optimizer=\"adam\", metrics=[\"binary_accuracy\"])"
   ]
  },
  {
   "cell_type": "code",
   "execution_count": 314,
   "metadata": {
    "execution": {
     "iopub.execute_input": "2025-03-13T12:45:04.315191Z",
     "iopub.status.busy": "2025-03-13T12:45:04.314920Z",
     "iopub.status.idle": "2025-03-13T12:45:13.971728Z",
     "shell.execute_reply": "2025-03-13T12:45:13.970894Z",
     "shell.execute_reply.started": "2025-03-13T12:45:04.315171Z"
    },
    "trusted": true
   },
   "outputs": [
    {
     "name": "stdout",
     "output_type": "stream",
     "text": [
      "Epoch 1/200\n",
      "\u001b[1m4/4\u001b[0m \u001b[32m━━━━━━━━━━━━━━━━━━━━\u001b[0m\u001b[37m\u001b[0m \u001b[1m4s\u001b[0m 131ms/step - binary_accuracy: 0.5746 - loss: 0.8242 - val_binary_accuracy: 0.7810 - val_loss: 0.6026\n",
      "Epoch 2/200\n",
      "\u001b[1m4/4\u001b[0m \u001b[32m━━━━━━━━━━━━━━━━━━━━\u001b[0m\u001b[37m\u001b[0m \u001b[1m0s\u001b[0m 43ms/step - binary_accuracy: 0.7568 - loss: 0.6219 - val_binary_accuracy: 0.8157 - val_loss: 0.5743\n",
      "Epoch 3/200\n",
      "\u001b[1m4/4\u001b[0m \u001b[32m━━━━━━━━━━━━━━━━━━━━\u001b[0m\u001b[37m\u001b[0m \u001b[1m0s\u001b[0m 51ms/step - binary_accuracy: 0.8086 - loss: 0.5471 - val_binary_accuracy: 0.8266 - val_loss: 0.5698\n",
      "Epoch 4/200\n",
      "\u001b[1m4/4\u001b[0m \u001b[32m━━━━━━━━━━━━━━━━━━━━\u001b[0m\u001b[37m\u001b[0m \u001b[1m0s\u001b[0m 42ms/step - binary_accuracy: 0.8191 - loss: 0.5285 - val_binary_accuracy: 0.8449 - val_loss: 0.5741\n",
      "Epoch 5/200\n",
      "\u001b[1m4/4\u001b[0m \u001b[32m━━━━━━━━━━━━━━━━━━━━\u001b[0m\u001b[37m\u001b[0m \u001b[1m0s\u001b[0m 36ms/step - binary_accuracy: 0.8320 - loss: 0.4793 - val_binary_accuracy: 0.8467 - val_loss: 0.5722\n",
      "Epoch 6/200\n",
      "\u001b[1m4/4\u001b[0m \u001b[32m━━━━━━━━━━━━━━━━━━━━\u001b[0m\u001b[37m\u001b[0m \u001b[1m0s\u001b[0m 42ms/step - binary_accuracy: 0.8483 - loss: 0.4343 - val_binary_accuracy: 0.8394 - val_loss: 0.5582\n",
      "Epoch 7/200\n",
      "\u001b[1m4/4\u001b[0m \u001b[32m━━━━━━━━━━━━━━━━━━━━\u001b[0m\u001b[37m\u001b[0m \u001b[1m0s\u001b[0m 46ms/step - binary_accuracy: 0.8537 - loss: 0.4410 - val_binary_accuracy: 0.8376 - val_loss: 0.5407\n",
      "Epoch 8/200\n",
      "\u001b[1m4/4\u001b[0m \u001b[32m━━━━━━━━━━━━━━━━━━━━\u001b[0m\u001b[37m\u001b[0m \u001b[1m0s\u001b[0m 42ms/step - binary_accuracy: 0.8450 - loss: 0.4583 - val_binary_accuracy: 0.8412 - val_loss: 0.5295\n",
      "Epoch 9/200\n",
      "\u001b[1m4/4\u001b[0m \u001b[32m━━━━━━━━━━━━━━━━━━━━\u001b[0m\u001b[37m\u001b[0m \u001b[1m0s\u001b[0m 40ms/step - binary_accuracy: 0.8544 - loss: 0.4514 - val_binary_accuracy: 0.8522 - val_loss: 0.5218\n",
      "Epoch 10/200\n",
      "\u001b[1m4/4\u001b[0m \u001b[32m━━━━━━━━━━━━━━━━━━━━\u001b[0m\u001b[37m\u001b[0m \u001b[1m0s\u001b[0m 42ms/step - binary_accuracy: 0.8648 - loss: 0.4111 - val_binary_accuracy: 0.8449 - val_loss: 0.5108\n",
      "Epoch 11/200\n",
      "\u001b[1m4/4\u001b[0m \u001b[32m━━━━━━━━━━━━━━━━━━━━\u001b[0m\u001b[37m\u001b[0m \u001b[1m0s\u001b[0m 48ms/step - binary_accuracy: 0.8513 - loss: 0.4289 - val_binary_accuracy: 0.8577 - val_loss: 0.5056\n",
      "Epoch 12/200\n",
      "\u001b[1m4/4\u001b[0m \u001b[32m━━━━━━━━━━━━━━━━━━━━\u001b[0m\u001b[37m\u001b[0m \u001b[1m0s\u001b[0m 42ms/step - binary_accuracy: 0.8664 - loss: 0.4008 - val_binary_accuracy: 0.8595 - val_loss: 0.5013\n",
      "Epoch 13/200\n",
      "\u001b[1m4/4\u001b[0m \u001b[32m━━━━━━━━━━━━━━━━━━━━\u001b[0m\u001b[37m\u001b[0m \u001b[1m0s\u001b[0m 39ms/step - binary_accuracy: 0.8604 - loss: 0.4020 - val_binary_accuracy: 0.8577 - val_loss: 0.4882\n",
      "Epoch 14/200\n",
      "\u001b[1m4/4\u001b[0m \u001b[32m━━━━━━━━━━━━━━━━━━━━\u001b[0m\u001b[37m\u001b[0m \u001b[1m0s\u001b[0m 41ms/step - binary_accuracy: 0.8679 - loss: 0.3808 - val_binary_accuracy: 0.8577 - val_loss: 0.4772\n",
      "Epoch 15/200\n",
      "\u001b[1m4/4\u001b[0m \u001b[32m━━━━━━━━━━━━━━━━━━━━\u001b[0m\u001b[37m\u001b[0m \u001b[1m0s\u001b[0m 45ms/step - binary_accuracy: 0.8718 - loss: 0.3737 - val_binary_accuracy: 0.8540 - val_loss: 0.4739\n",
      "Epoch 16/200\n",
      "\u001b[1m4/4\u001b[0m \u001b[32m━━━━━━━━━━━━━━━━━━━━\u001b[0m\u001b[37m\u001b[0m \u001b[1m0s\u001b[0m 36ms/step - binary_accuracy: 0.8720 - loss: 0.3612 - val_binary_accuracy: 0.8558 - val_loss: 0.4702\n",
      "Epoch 17/200\n",
      "\u001b[1m4/4\u001b[0m \u001b[32m━━━━━━━━━━━━━━━━━━━━\u001b[0m\u001b[37m\u001b[0m \u001b[1m0s\u001b[0m 35ms/step - binary_accuracy: 0.8749 - loss: 0.3604 - val_binary_accuracy: 0.8595 - val_loss: 0.4601\n",
      "Epoch 18/200\n",
      "\u001b[1m4/4\u001b[0m \u001b[32m━━━━━━━━━━━━━━━━━━━━\u001b[0m\u001b[37m\u001b[0m \u001b[1m0s\u001b[0m 47ms/step - binary_accuracy: 0.8689 - loss: 0.3543 - val_binary_accuracy: 0.8595 - val_loss: 0.4545\n",
      "Epoch 19/200\n",
      "\u001b[1m4/4\u001b[0m \u001b[32m━━━━━━━━━━━━━━━━━━━━\u001b[0m\u001b[37m\u001b[0m \u001b[1m0s\u001b[0m 59ms/step - binary_accuracy: 0.8780 - loss: 0.3430 - val_binary_accuracy: 0.8577 - val_loss: 0.4538\n",
      "Epoch 20/200\n",
      "\u001b[1m4/4\u001b[0m \u001b[32m━━━━━━━━━━━━━━━━━━━━\u001b[0m\u001b[37m\u001b[0m \u001b[1m0s\u001b[0m 44ms/step - binary_accuracy: 0.8599 - loss: 0.3715 - val_binary_accuracy: 0.8595 - val_loss: 0.4575\n",
      "Epoch 21/200\n",
      "\u001b[1m4/4\u001b[0m \u001b[32m━━━━━━━━━━━━━━━━━━━━\u001b[0m\u001b[37m\u001b[0m \u001b[1m0s\u001b[0m 45ms/step - binary_accuracy: 0.8546 - loss: 0.3845 - val_binary_accuracy: 0.8577 - val_loss: 0.4529\n",
      "Epoch 22/200\n",
      "\u001b[1m4/4\u001b[0m \u001b[32m━━━━━━━━━━━━━━━━━━━━\u001b[0m\u001b[37m\u001b[0m \u001b[1m0s\u001b[0m 43ms/step - binary_accuracy: 0.8647 - loss: 0.3471 - val_binary_accuracy: 0.8558 - val_loss: 0.4391\n",
      "Epoch 23/200\n",
      "\u001b[1m4/4\u001b[0m \u001b[32m━━━━━━━━━━━━━━━━━━━━\u001b[0m\u001b[37m\u001b[0m \u001b[1m0s\u001b[0m 42ms/step - binary_accuracy: 0.8761 - loss: 0.3553 - val_binary_accuracy: 0.8522 - val_loss: 0.4337\n",
      "Epoch 24/200\n",
      "\u001b[1m4/4\u001b[0m \u001b[32m━━━━━━━━━━━━━━━━━━━━\u001b[0m\u001b[37m\u001b[0m \u001b[1m0s\u001b[0m 43ms/step - binary_accuracy: 0.8732 - loss: 0.3416 - val_binary_accuracy: 0.8522 - val_loss: 0.4304\n",
      "Epoch 25/200\n",
      "\u001b[1m4/4\u001b[0m \u001b[32m━━━━━━━━━━━━━━━━━━━━\u001b[0m\u001b[37m\u001b[0m \u001b[1m0s\u001b[0m 46ms/step - binary_accuracy: 0.8689 - loss: 0.3414 - val_binary_accuracy: 0.8540 - val_loss: 0.4290\n",
      "Epoch 26/200\n",
      "\u001b[1m4/4\u001b[0m \u001b[32m━━━━━━━━━━━━━━━━━━━━\u001b[0m\u001b[37m\u001b[0m \u001b[1m0s\u001b[0m 43ms/step - binary_accuracy: 0.8695 - loss: 0.3313 - val_binary_accuracy: 0.8504 - val_loss: 0.4224\n",
      "Epoch 27/200\n",
      "\u001b[1m4/4\u001b[0m \u001b[32m━━━━━━━━━━━━━━━━━━━━\u001b[0m\u001b[37m\u001b[0m \u001b[1m0s\u001b[0m 42ms/step - binary_accuracy: 0.8817 - loss: 0.3219 - val_binary_accuracy: 0.8540 - val_loss: 0.4185\n",
      "Epoch 28/200\n",
      "\u001b[1m4/4\u001b[0m \u001b[32m━━━━━━━━━━━━━━━━━━━━\u001b[0m\u001b[37m\u001b[0m \u001b[1m0s\u001b[0m 45ms/step - binary_accuracy: 0.8854 - loss: 0.3196 - val_binary_accuracy: 0.8540 - val_loss: 0.4212\n",
      "Epoch 29/200\n",
      "\u001b[1m4/4\u001b[0m \u001b[32m━━━━━━━━━━━━━━━━━━━━\u001b[0m\u001b[37m\u001b[0m \u001b[1m0s\u001b[0m 40ms/step - binary_accuracy: 0.8814 - loss: 0.3106 - val_binary_accuracy: 0.8504 - val_loss: 0.4285\n",
      "Epoch 30/200\n",
      "\u001b[1m4/4\u001b[0m \u001b[32m━━━━━━━━━━━━━━━━━━━━\u001b[0m\u001b[37m\u001b[0m \u001b[1m0s\u001b[0m 41ms/step - binary_accuracy: 0.8798 - loss: 0.3293 - val_binary_accuracy: 0.8431 - val_loss: 0.4331\n",
      "Epoch 31/200\n",
      "\u001b[1m4/4\u001b[0m \u001b[32m━━━━━━━━━━━━━━━━━━━━\u001b[0m\u001b[37m\u001b[0m \u001b[1m0s\u001b[0m 53ms/step - binary_accuracy: 0.8851 - loss: 0.3097 - val_binary_accuracy: 0.8504 - val_loss: 0.4240\n",
      "Epoch 32/200\n",
      "\u001b[1m4/4\u001b[0m \u001b[32m━━━━━━━━━━━━━━━━━━━━\u001b[0m\u001b[37m\u001b[0m \u001b[1m0s\u001b[0m 43ms/step - binary_accuracy: 0.8736 - loss: 0.3311 - val_binary_accuracy: 0.8522 - val_loss: 0.4110\n",
      "Epoch 33/200\n",
      "\u001b[1m4/4\u001b[0m \u001b[32m━━━━━━━━━━━━━━━━━━━━\u001b[0m\u001b[37m\u001b[0m \u001b[1m0s\u001b[0m 44ms/step - binary_accuracy: 0.8763 - loss: 0.3199 - val_binary_accuracy: 0.8522 - val_loss: 0.4034\n",
      "Epoch 34/200\n",
      "\u001b[1m4/4\u001b[0m \u001b[32m━━━━━━━━━━━━━━━━━━━━\u001b[0m\u001b[37m\u001b[0m \u001b[1m0s\u001b[0m 42ms/step - binary_accuracy: 0.8750 - loss: 0.3186 - val_binary_accuracy: 0.8485 - val_loss: 0.4017\n",
      "Epoch 35/200\n",
      "\u001b[1m4/4\u001b[0m \u001b[32m━━━━━━━━━━━━━━━━━━━━\u001b[0m\u001b[37m\u001b[0m \u001b[1m0s\u001b[0m 44ms/step - binary_accuracy: 0.8877 - loss: 0.3033 - val_binary_accuracy: 0.8467 - val_loss: 0.4020\n",
      "Epoch 36/200\n",
      "\u001b[1m4/4\u001b[0m \u001b[32m━━━━━━━━━━━━━━━━━━━━\u001b[0m\u001b[37m\u001b[0m \u001b[1m0s\u001b[0m 80ms/step - binary_accuracy: 0.8837 - loss: 0.3058 - val_binary_accuracy: 0.8358 - val_loss: 0.4117\n",
      "Epoch 37/200\n",
      "\u001b[1m4/4\u001b[0m \u001b[32m━━━━━━━━━━━━━━━━━━━━\u001b[0m\u001b[37m\u001b[0m \u001b[1m0s\u001b[0m 46ms/step - binary_accuracy: 0.8805 - loss: 0.2987 - val_binary_accuracy: 0.8431 - val_loss: 0.4064\n",
      "Epoch 38/200\n",
      "\u001b[1m4/4\u001b[0m \u001b[32m━━━━━━━━━━━━━━━━━━━━\u001b[0m\u001b[37m\u001b[0m \u001b[1m0s\u001b[0m 42ms/step - binary_accuracy: 0.8833 - loss: 0.3004 - val_binary_accuracy: 0.8431 - val_loss: 0.3949\n",
      "Epoch 39/200\n",
      "\u001b[1m4/4\u001b[0m \u001b[32m━━━━━━━━━━━━━━━━━━━━\u001b[0m\u001b[37m\u001b[0m \u001b[1m0s\u001b[0m 38ms/step - binary_accuracy: 0.8753 - loss: 0.2929 - val_binary_accuracy: 0.8449 - val_loss: 0.3949\n",
      "Epoch 40/200\n",
      "\u001b[1m4/4\u001b[0m \u001b[32m━━━━━━━━━━━━━━━━━━━━\u001b[0m\u001b[37m\u001b[0m \u001b[1m0s\u001b[0m 40ms/step - binary_accuracy: 0.8689 - loss: 0.3227 - val_binary_accuracy: 0.8358 - val_loss: 0.4114\n",
      "Epoch 41/200\n",
      "\u001b[1m4/4\u001b[0m \u001b[32m━━━━━━━━━━━━━━━━━━━━\u001b[0m\u001b[37m\u001b[0m \u001b[1m0s\u001b[0m 41ms/step - binary_accuracy: 0.8821 - loss: 0.2932 - val_binary_accuracy: 0.8449 - val_loss: 0.4051\n",
      "Epoch 42/200\n",
      "\u001b[1m4/4\u001b[0m \u001b[32m━━━━━━━━━━━━━━━━━━━━\u001b[0m\u001b[37m\u001b[0m \u001b[1m0s\u001b[0m 38ms/step - binary_accuracy: 0.8755 - loss: 0.3067 - val_binary_accuracy: 0.8394 - val_loss: 0.3969\n",
      "Epoch 43/200\n",
      "\u001b[1m4/4\u001b[0m \u001b[32m━━━━━━━━━━━━━━━━━━━━\u001b[0m\u001b[37m\u001b[0m \u001b[1m0s\u001b[0m 46ms/step - binary_accuracy: 0.8832 - loss: 0.2982 - val_binary_accuracy: 0.8394 - val_loss: 0.3955\n"
     ]
    },
    {
     "data": {
      "text/plain": [
       "<Axes: title={'center': 'Accuracy'}>"
      ]
     },
     "execution_count": 314,
     "metadata": {},
     "output_type": "execute_result"
    },
    {
     "data": {
      "image/png": "[encoded data removed]",
      "text/plain": [
       "<Figure size 640x480 with 1 Axes>"
      ]
     },
     "metadata": {},
     "output_type": "display_data"
    },
    {
     "data": {
      "image/png": "[encoded data removed]",
      "text/plain": [
       "<Figure size 640x480 with 1 Axes>"
      ]
     },
     "metadata": {},
     "output_type": "display_data"
    }
   ],
   "source": [
    "early_stopping = keras.callbacks.EarlyStopping(\n",
    "    patience=5,\n",
    "    min_delta=0.001,\n",
    "    restore_best_weights=True,\n",
    ")\n",
    "history = model.fit(\n",
    "    X_train, y_train,\n",
    "    validation_data=(X_valid, y_valid),\n",
    "    batch_size=512,\n",
    "    epochs=200,\n",
    "    callbacks=[early_stopping],\n",
    ")\n",
    "\n",
    "history_df = pd.DataFrame(history.history)\n",
    "history_df.loc[:, ['loss', 'val_loss']].plot(title=\"Cross-entropy\")\n",
    "history_df.loc[:, ['binary_accuracy', 'val_binary_accuracy']].plot(title=\"Accuracy\")"
   ]
  },
  {
   "cell_type": "code",
   "execution_count": 315,
   "metadata": {
    "execution": {
     "iopub.execute_input": "2025-03-13T12:45:13.972756Z",
     "iopub.status.busy": "2025-03-13T12:45:13.972530Z",
     "iopub.status.idle": "2025-03-13T12:45:19.512758Z",
     "shell.execute_reply": "2025-03-13T12:45:19.511920Z",
     "shell.execute_reply.started": "2025-03-13T12:45:13.972736Z"
    },
    "trusted": true
   },
   "outputs": [
    {
     "name": "stdout",
     "output_type": "stream",
     "text": [
      "Epoch 1/10\n",
      "\u001b[1m52/52\u001b[0m \u001b[32m━━━━━━━━━━━━━━━━━━━━\u001b[0m\u001b[37m\u001b[0m \u001b[1m0s\u001b[0m 6ms/step - binary_accuracy: 0.8644 - loss: 0.3645 - val_binary_accuracy: 0.8595 - val_loss: 0.3927\n",
      "Epoch 2/10\n",
      "\u001b[1m52/52\u001b[0m \u001b[32m━━━━━━━━━━━━━━━━━━━━\u001b[0m\u001b[37m\u001b[0m \u001b[1m0s\u001b[0m 6ms/step - binary_accuracy: 0.8574 - loss: 0.3392 - val_binary_accuracy: 0.8303 - val_loss: 0.3864\n",
      "Epoch 3/10\n",
      "\u001b[1m52/52\u001b[0m \u001b[32m━━━━━━━━━━━━━━━━━━━━\u001b[0m\u001b[37m\u001b[0m \u001b[1m0s\u001b[0m 6ms/step - binary_accuracy: 0.8530 - loss: 0.3636 - val_binary_accuracy: 0.8358 - val_loss: 0.3694\n",
      "Epoch 4/10\n",
      "\u001b[1m52/52\u001b[0m \u001b[32m━━━━━━━━━━━━━━━━━━━━\u001b[0m\u001b[37m\u001b[0m \u001b[1m0s\u001b[0m 6ms/step - binary_accuracy: 0.8553 - loss: 0.3350 - val_binary_accuracy: 0.8412 - val_loss: 0.3774\n",
      "Epoch 5/10\n",
      "\u001b[1m52/52\u001b[0m \u001b[32m━━━━━━━━━━━━━━━━━━━━\u001b[0m\u001b[37m\u001b[0m \u001b[1m0s\u001b[0m 6ms/step - binary_accuracy: 0.8568 - loss: 0.3594 - val_binary_accuracy: 0.8394 - val_loss: 0.3887\n",
      "Epoch 6/10\n",
      "\u001b[1m52/52\u001b[0m \u001b[32m━━━━━━━━━━━━━━━━━━━━\u001b[0m\u001b[37m\u001b[0m \u001b[1m0s\u001b[0m 6ms/step - binary_accuracy: 0.8700 - loss: 0.3195 - val_binary_accuracy: 0.8467 - val_loss: 0.3738\n",
      "Epoch 7/10\n",
      "\u001b[1m52/52\u001b[0m \u001b[32m━━━━━━━━━━━━━━━━━━━━\u001b[0m\u001b[37m\u001b[0m \u001b[1m0s\u001b[0m 7ms/step - binary_accuracy: 0.8661 - loss: 0.3191 - val_binary_accuracy: 0.8358 - val_loss: 0.3866\n",
      "Epoch 8/10\n",
      "\u001b[1m52/52\u001b[0m \u001b[32m━━━━━━━━━━━━━━━━━━━━\u001b[0m\u001b[37m\u001b[0m \u001b[1m0s\u001b[0m 7ms/step - binary_accuracy: 0.8709 - loss: 0.3099 - val_binary_accuracy: 0.8449 - val_loss: 0.3859\n",
      "Epoch 9/10\n",
      "\u001b[1m52/52\u001b[0m \u001b[32m━━━━━━━━━━━━━━━━━━━━\u001b[0m\u001b[37m\u001b[0m \u001b[1m0s\u001b[0m 6ms/step - binary_accuracy: 0.8649 - loss: 0.3430 - val_binary_accuracy: 0.8449 - val_loss: 0.3890\n",
      "Epoch 10/10\n",
      "\u001b[1m52/52\u001b[0m \u001b[32m━━━━━━━━━━━━━━━━━━━━\u001b[0m\u001b[37m\u001b[0m \u001b[1m1s\u001b[0m 8ms/step - binary_accuracy: 0.8574 - loss: 0.3518 - val_binary_accuracy: 0.8339 - val_loss: 0.3981\n"
     ]
    },
    {
     "data": {
      "text/plain": [
       "<keras.src.callbacks.history.History at 0x2bd2e956f10>"
      ]
     },
     "execution_count": 315,
     "metadata": {},
     "output_type": "execute_result"
    }
   ],
   "source": [
    "model.fit(X_train, y_train, epochs=10, batch_size=32, validation_data=(X_valid, y_valid))"
   ]
  },
  {
   "cell_type": "code",
   "execution_count": 316,
   "metadata": {
    "execution": {
     "iopub.execute_input": "2025-03-13T12:45:19.513958Z",
     "iopub.status.busy": "2025-03-13T12:45:19.513647Z",
     "iopub.status.idle": "2025-03-13T12:45:19.600248Z",
     "shell.execute_reply": "2025-03-13T12:45:19.599570Z",
     "shell.execute_reply.started": "2025-03-13T12:45:19.513924Z"
    },
    "trusted": true
   },
   "outputs": [
    {
     "name": "stdout",
     "output_type": "stream",
     "text": [
      "\u001b[1m18/18\u001b[0m \u001b[32m━━━━━━━━━━━━━━━━━━━━\u001b[0m\u001b[37m\u001b[0m \u001b[1m0s\u001b[0m 5ms/step - binary_accuracy: 0.8542 - loss: 0.3712 \n",
      "Loss: 0.39813417196273804, Accuracy: 0.8339415788650513\n"
     ]
    }
   ],
   "source": [
    "loss, accuracy = model.evaluate(X_valid, y_valid)\n",
    "print(f\"Loss: {loss}, Accuracy: {accuracy}\")"
   ]
  },
  {
   "cell_type": "code",
   "execution_count": 317,
   "metadata": {
    "execution": {
     "iopub.execute_input": "2025-03-13T12:45:19.601203Z",
     "iopub.status.busy": "2025-03-13T12:45:19.600981Z",
     "iopub.status.idle": "2025-03-13T12:45:20.210207Z",
     "shell.execute_reply": "2025-03-13T12:45:20.209519Z",
     "shell.execute_reply.started": "2025-03-13T12:45:19.601185Z"
    },
    "trusted": true
   },
   "outputs": [
    {
     "name": "stdout",
     "output_type": "stream",
     "text": [
      "\u001b[1m18/18\u001b[0m \u001b[32m━━━━━━━━━━━━━━━━━━━━\u001b[0m\u001b[37m\u001b[0m \u001b[1m0s\u001b[0m 10ms/step\n"
     ]
    }
   ],
   "source": [
    "y_pred=model.predict(X_valid)"
   ]
  },
  {
   "cell_type": "code",
   "execution_count": 318,
   "metadata": {
    "execution": {
     "iopub.execute_input": "2025-03-13T12:45:20.211559Z",
     "iopub.status.busy": "2025-03-13T12:45:20.211250Z",
     "iopub.status.idle": "2025-03-13T12:45:20.215427Z",
     "shell.execute_reply": "2025-03-13T12:45:20.214585Z",
     "shell.execute_reply.started": "2025-03-13T12:45:20.211530Z"
    },
    "trusted": true
   },
   "outputs": [],
   "source": [
    "from sklearn.metrics import accuracy_score, classification_report,ConfusionMatrixDisplay, precision_score, recall_score, f1_score, roc_auc_score,roc_curve,confusion_matrix,log_loss"
   ]
  },
  {
   "cell_type": "code",
   "execution_count": 319,
   "metadata": {
    "execution": {
     "iopub.execute_input": "2025-03-13T12:45:20.216657Z",
     "iopub.status.busy": "2025-03-13T12:45:20.216327Z",
     "iopub.status.idle": "2025-03-13T12:45:20.232664Z",
     "shell.execute_reply": "2025-03-13T12:45:20.231792Z",
     "shell.execute_reply.started": "2025-03-13T12:45:20.216628Z"
    },
    "trusted": true
   },
   "outputs": [
    {
     "data": {
      "text/plain": [
       "np.float64(0.8616805667653125)"
      ]
     },
     "execution_count": 319,
     "metadata": {},
     "output_type": "execute_result"
    }
   ],
   "source": [
    "roc_auc_score(y_valid,y_pred)\n"
   ]
  },
  {
   "cell_type": "code",
   "execution_count": 320,
   "metadata": {
    "execution": {
     "iopub.execute_input": "2025-03-13T12:45:20.233762Z",
     "iopub.status.busy": "2025-03-13T12:45:20.233524Z",
     "iopub.status.idle": "2025-03-13T12:45:20.292720Z",
     "shell.execute_reply": "2025-03-13T12:45:20.291855Z",
     "shell.execute_reply.started": "2025-03-13T12:45:20.233744Z"
    },
    "trusted": true
   },
   "outputs": [],
   "source": [
    "with open(\"Binary_pred_rainfall_dataset.pkl\",\"wb\") as file:\n",
    "    pickle.dump((model,preprocessor),file)"
   ]
  },
  {
   "cell_type": "code",
   "execution_count": 321,
   "metadata": {
    "execution": {
     "iopub.execute_input": "2025-03-13T12:45:20.293790Z",
     "iopub.status.busy": "2025-03-13T12:45:20.293515Z",
     "iopub.status.idle": "2025-03-13T12:45:20.312253Z",
     "shell.execute_reply": "2025-03-13T12:45:20.311625Z",
     "shell.execute_reply.started": "2025-03-13T12:45:20.293762Z"
    },
    "trusted": true
   },
   "outputs": [],
   "source": [
    "df_test=pd.read_csv('test.csv')\n",
    "df_test = preprocessor.transform(df_test)"
   ]
  },
  {
   "cell_type": "code",
   "execution_count": 322,
   "metadata": {
    "execution": {
     "iopub.execute_input": "2025-03-13T12:45:20.313170Z",
     "iopub.status.busy": "2025-03-13T12:45:20.312920Z",
     "iopub.status.idle": "2025-03-13T12:45:20.675229Z",
     "shell.execute_reply": "2025-03-13T12:45:20.674475Z",
     "shell.execute_reply.started": "2025-03-13T12:45:20.313147Z"
    },
    "trusted": true
   },
   "outputs": [
    {
     "name": "stdout",
     "output_type": "stream",
     "text": [
      "\u001b[1m23/23\u001b[0m \u001b[32m━━━━━━━━━━━━━━━━━━━━\u001b[0m\u001b[37m\u001b[0m \u001b[1m0s\u001b[0m 2ms/step \n"
     ]
    }
   ],
   "source": [
    "test_pred=model.predict(df_test)"
   ]
  },
  {
   "cell_type": "code",
   "execution_count": 323,
   "metadata": {
    "execution": {
     "iopub.execute_input": "2025-03-13T12:45:20.676462Z",
     "iopub.status.busy": "2025-03-13T12:45:20.676198Z",
     "iopub.status.idle": "2025-03-13T12:45:20.692934Z",
     "shell.execute_reply": "2025-03-13T12:45:20.692105Z",
     "shell.execute_reply.started": "2025-03-13T12:45:20.676425Z"
    },
    "trusted": true
   },
   "outputs": [
    {
     "data": {
      "text/html": [
       "<div>\n",
       "<style scoped>\n",
       "    .dataframe tbody tr th:only-of-type {\n",
       "        vertical-align: middle;\n",
       "    }\n",
       "\n",
       "    .dataframe tbody tr th {\n",
       "        vertical-align: top;\n",
       "    }\n",
       "\n",
       "    .dataframe thead th {\n",
       "        text-align: right;\n",
       "    }\n",
       "</style>\n",
       "<table border=\"1\" class=\"dataframe\">\n",
       "  <thead>\n",
       "    <tr style=\"text-align: right;\">\n",
       "      <th></th>\n",
       "      <th>rainfall</th>\n",
       "    </tr>\n",
       "    <tr>\n",
       "      <th>id</th>\n",
       "      <th></th>\n",
       "    </tr>\n",
       "  </thead>\n",
       "  <tbody>\n",
       "    <tr>\n",
       "      <th>2190</th>\n",
       "      <td>0.998740</td>\n",
       "    </tr>\n",
       "    <tr>\n",
       "      <th>2191</th>\n",
       "      <td>0.999128</td>\n",
       "    </tr>\n",
       "    <tr>\n",
       "      <th>2192</th>\n",
       "      <td>0.998344</td>\n",
       "    </tr>\n",
       "    <tr>\n",
       "      <th>2193</th>\n",
       "      <td>0.195180</td>\n",
       "    </tr>\n",
       "    <tr>\n",
       "      <th>2194</th>\n",
       "      <td>0.006695</td>\n",
       "    </tr>\n",
       "    <tr>\n",
       "      <th>...</th>\n",
       "      <td>...</td>\n",
       "    </tr>\n",
       "    <tr>\n",
       "      <th>2915</th>\n",
       "      <td>0.999881</td>\n",
       "    </tr>\n",
       "    <tr>\n",
       "      <th>2916</th>\n",
       "      <td>0.990232</td>\n",
       "    </tr>\n",
       "    <tr>\n",
       "      <th>2917</th>\n",
       "      <td>0.999640</td>\n",
       "    </tr>\n",
       "    <tr>\n",
       "      <th>2918</th>\n",
       "      <td>0.999870</td>\n",
       "    </tr>\n",
       "    <tr>\n",
       "      <th>2919</th>\n",
       "      <td>0.998000</td>\n",
       "    </tr>\n",
       "  </tbody>\n",
       "</table>\n",
       "<p>730 rows × 1 columns</p>\n",
       "</div>"
      ],
      "text/plain": [
       "      rainfall\n",
       "id            \n",
       "2190  0.998740\n",
       "2191  0.999128\n",
       "2192  0.998344\n",
       "2193  0.195180\n",
       "2194  0.006695\n",
       "...        ...\n",
       "2915  0.999881\n",
       "2916  0.990232\n",
       "2917  0.999640\n",
       "2918  0.999870\n",
       "2919  0.998000\n",
       "\n",
       "[730 rows x 1 columns]"
      ]
     },
     "execution_count": 323,
     "metadata": {},
     "output_type": "execute_result"
    }
   ],
   "source": [
    "model_submission=pd.read_csv(\"sample_submission.csv\",index_col=\"id\")\n",
    "model_submission[\"rainfall\"]=test_pred\n",
    "model_submission"
   ]
  },
  {
   "cell_type": "code",
   "execution_count": 324,
   "metadata": {
    "execution": {
     "iopub.execute_input": "2025-03-13T12:45:20.696058Z",
     "iopub.status.busy": "2025-03-13T12:45:20.695804Z",
     "iopub.status.idle": "2025-03-13T12:45:20.705936Z",
     "shell.execute_reply": "2025-03-13T12:45:20.705132Z",
     "shell.execute_reply.started": "2025-03-13T12:45:20.696039Z"
    },
    "trusted": true
   },
   "outputs": [],
   "source": [
    "model_submission.to_csv(\"dl_submission.csv\")"
   ]
  },
  {
   "cell_type": "code",
   "execution_count": null,
   "metadata": {
    "trusted": true
   },
   "outputs": [],
   "source": []
  }
 ],
 "metadata": {
  "kaggle": {
   "accelerator": "nvidiaTeslaT4",
   "dataSources": [
    {
     "databundleVersionId": 11251744,
     "sourceId": 91714,
     "sourceType": "competition"
    }
   ],
   "dockerImageVersionId": 30918,
   "isGpuEnabled": true,
   "isInternetEnabled": true,
   "language": "python",
   "sourceType": "notebook"
  },
  "kernelspec": {
   "display_name": "Python 3",
   "language": "python",
   "name": "python3"
  },
  "language_info": {
   "codemirror_mode": {
    "name": "ipython",
    "version": 3
   },
   "file_extension": ".py",
   "mimetype": "text/x-python",
   "name": "python",
   "nbconvert_exporter": "python",
   "pygments_lexer": "ipython3",
   "version": "3.11.0rc2"
  }
 },
 "nbformat": 4,
 "nbformat_minor": 4
}
